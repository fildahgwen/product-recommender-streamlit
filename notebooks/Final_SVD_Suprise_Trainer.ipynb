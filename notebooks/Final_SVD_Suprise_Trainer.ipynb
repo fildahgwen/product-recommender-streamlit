{
  "nbformat": 4,
  "nbformat_minor": 0,
  "metadata": {
    "colab": {
      "name": "Final_SVD_Suprise_Trainer.ipynb",
      "provenance": [],
      "collapsed_sections": []
    },
    "kernelspec": {
      "display_name": "Python 3",
      "name": "python3"
    },
    "language_info": {
      "name": "python"
    }
  },
  "cells": [
    {
      "cell_type": "code",
      "metadata": {
        "colab": {
          "base_uri": "https://localhost:8080/"
        },
        "id": "r3cD7munAe0V",
        "outputId": "e41e8dcc-f0c6-4086-a6f4-1df85931c72d"
      },
      "source": [
        "!pip install scikit-surprise\n",
        "import numpy as np\n",
        "import pandas as pd\n",
        "from surprise import Dataset\n",
        "from surprise import Reader\n",
        "import heapq"
      ],
      "execution_count": 1,
      "outputs": [
        {
          "output_type": "stream",
          "text": [
            "Collecting scikit-surprise\n",
            "\u001b[?25l  Downloading https://files.pythonhosted.org/packages/97/37/5d334adaf5ddd65da99fc65f6507e0e4599d092ba048f4302fe8775619e8/scikit-surprise-1.1.1.tar.gz (11.8MB)\n",
            "\u001b[K     |████████████████████████████████| 11.8MB 236kB/s \n",
            "\u001b[?25hRequirement already satisfied: joblib>=0.11 in /usr/local/lib/python3.7/dist-packages (from scikit-surprise) (1.0.1)\n",
            "Requirement already satisfied: numpy>=1.11.2 in /usr/local/lib/python3.7/dist-packages (from scikit-surprise) (1.19.5)\n",
            "Requirement already satisfied: scipy>=1.0.0 in /usr/local/lib/python3.7/dist-packages (from scikit-surprise) (1.4.1)\n",
            "Requirement already satisfied: six>=1.10.0 in /usr/local/lib/python3.7/dist-packages (from scikit-surprise) (1.15.0)\n",
            "Building wheels for collected packages: scikit-surprise\n",
            "  Building wheel for scikit-surprise (setup.py) ... \u001b[?25l\u001b[?25hdone\n",
            "  Created wheel for scikit-surprise: filename=scikit_surprise-1.1.1-cp37-cp37m-linux_x86_64.whl size=1617634 sha256=f55526f215bfaa59d4ac5a0903acca1b96abdee4fd6ba6adbedf68192fbff185\n",
            "  Stored in directory: /root/.cache/pip/wheels/78/9c/3d/41b419c9d2aff5b6e2b4c0fc8d25c538202834058f9ed110d0\n",
            "Successfully built scikit-surprise\n",
            "Installing collected packages: scikit-surprise\n",
            "Successfully installed scikit-surprise-1.1.1\n"
          ],
          "name": "stdout"
        }
      ]
    },
    {
      "cell_type": "code",
      "metadata": {
        "id": "s-pg_4tAAqHZ"
      },
      "source": [
        "data_main = pd.read_csv('https://s3.amazonaws.com/amazon-reviews-pds/tsv/amazon_reviews_us_Digital_Software_v1_00.tsv.gz',\n",
        "                 sep='\\t',\n",
        "                 compression='gzip',\n",
        "                 error_bad_lines=False,\n",
        "                 warn_bad_lines=False)"
      ],
      "execution_count": 2,
      "outputs": []
    },
    {
      "cell_type": "code",
      "metadata": {
        "id": "yUDhNQ0SiMtW"
      },
      "source": [
        "products = data_main[['product_id', 'product_title']].drop_duplicates(['product_id'])\n",
        "reader = Reader(rating_scale=(1, 5))\n",
        "data = Dataset.load_from_df(data_main[[\"customer_id\", \"product_id\", \"star_rating\"]], reader)\n",
        "trainingSet = data.build_full_trainset()"
      ],
      "execution_count": 3,
      "outputs": []
    },
    {
      "cell_type": "code",
      "metadata": {
        "id": "Ol3fsghyA-9x"
      },
      "source": [
        "from surprise import SVD\n",
        "\n",
        "algo = SVD(n_epochs=19, lr_all=0.02, reg_all=0.2)\n",
        "algo.fit(trainingSet)\n",
        "predictions = algo.test(trainingSet.build_testset())"
      ],
      "execution_count": 4,
      "outputs": []
    },
    {
      "cell_type": "code",
      "metadata": {
        "id": "GZkeeegIR6cs"
      },
      "source": [
        "from surprise.dump import *"
      ],
      "execution_count": 5,
      "outputs": []
    },
    {
      "cell_type": "code",
      "metadata": {
        "colab": {
          "base_uri": "https://localhost:8080/"
        },
        "id": "0xb9TAsLSEpD",
        "outputId": "e058331b-dbc0-4953-cbfa-ba70c3434b27"
      },
      "source": [
        "dump(file_name='svd.model', predictions=predictions, algo= algo, verbose=1)"
      ],
      "execution_count": 6,
      "outputs": [
        {
          "output_type": "stream",
          "text": [
            "The dump has been saved as file svd.model\n"
          ],
          "name": "stdout"
        }
      ]
    },
    {
      "cell_type": "code",
      "metadata": {
        "id": "4Tc9ehyxSXeJ"
      },
      "source": [
        "model = load(file_name='svd.model')"
      ],
      "execution_count": 7,
      "outputs": []
    },
    {
      "cell_type": "code",
      "metadata": {
        "id": "FIF0dQO2Fjt0"
      },
      "source": [
        "def getProductName(product_id):\n",
        "      return products.loc[products['product_id'] == product_id, 'product_title'].iloc[0]"
      ],
      "execution_count": 8,
      "outputs": []
    },
    {
      "cell_type": "code",
      "metadata": {
        "id": "8jDKAf3i3czf"
      },
      "source": [
        "from collections import defaultdict\n",
        "\n",
        "def get_top_n(predictions, n=10):\n",
        "    \"\"\"Return the top-N recommendation for each user from a set of predictions.\n",
        "    Args:\n",
        "        predictions(list of Prediction objects): The list of predictions, as\n",
        "            returned by the test method of an algorithm.\n",
        "        n(int): The number of recommendation to output for each user. Default\n",
        "            is 10.\n",
        "    Returns:\n",
        "    A dict where keys are user (raw) ids and values are lists of tuples:\n",
        "        [(raw item id, rating estimation), ...] of size n.\n",
        "    \"\"\"\n",
        "\n",
        "    # First map the predictions to each user.\n",
        "    top_n = defaultdict(list)\n",
        "    for uid, iid, true_r, est, _ in predictions:\n",
        "        top_n[uid].append((iid, est))\n",
        "\n",
        "    # Then sort the predictions for each user and retrieve the k highest ones.\n",
        "    for uid, user_ratings in top_n.items():\n",
        "        user_ratings.sort(key=lambda x: x[1], reverse=True)\n",
        "        top_n[uid] = user_ratings[:n]\n",
        "\n",
        "    return top_n"
      ],
      "execution_count": 9,
      "outputs": []
    },
    {
      "cell_type": "code",
      "metadata": {
        "id": "rhRSmue2mKUd"
      },
      "source": [
        "test_customer = 18057691\n",
        "test_subject_iid = trainingSet.to_inner_uid(test_customer)\n",
        "test_subject_ratings = trainingSet.ur[test_subject_iid]"
      ],
      "execution_count": 10,
      "outputs": []
    },
    {
      "cell_type": "code",
      "metadata": {
        "id": "NNIZkG9bmB3F"
      },
      "source": [
        "k = 10 + len(test_subject_ratings)\n",
        "watched = {}\n",
        "for itemID, rating in trainingSet.ur[test_subject_iid]:\n",
        "  watched[trainingSet.to_raw_iid(itemID)] = 1"
      ],
      "execution_count": 11,
      "outputs": []
    },
    {
      "cell_type": "code",
      "metadata": {
        "id": "MCzZ6Ut9TPK1"
      },
      "source": [
        "list_tem = []\n",
        "for item in products.product_id:\n",
        "  list_tem.append(model[1].predict(uid=str(test_customer), iid=item))"
      ],
      "execution_count": 12,
      "outputs": []
    },
    {
      "cell_type": "code",
      "metadata": {
        "id": "fILg3Ht0Usq1"
      },
      "source": [
        "k_neighbors = heapq.nlargest(k, list_tem, key=lambda t: t[3])\n",
        "top_t = get_top_n(k_neighbors, n=k)"
      ],
      "execution_count": 13,
      "outputs": []
    },
    {
      "cell_type": "code",
      "metadata": {
        "id": "H419ckC1ko-S"
      },
      "source": [
        "position = 0\n",
        "recommendations = []\n",
        "for rec in top_t[str(test_customer)]:\n",
        "  if not rec[0] in watched:\n",
        "    recommendations.append(getProductName(rec[0]))\n",
        "    position += 1\n",
        "    if (position >= 10): break # We only want top 10"
      ],
      "execution_count": 14,
      "outputs": []
    },
    {
      "cell_type": "code",
      "metadata": {
        "colab": {
          "base_uri": "https://localhost:8080/"
        },
        "id": "HrRQbYT7Ai-s",
        "outputId": "0b856e9f-fc12-45a9-d103-3a96eb7a9d9a"
      },
      "source": [
        "for recommendation in recommendations:\n",
        "  print(recommendation)"
      ],
      "execution_count": 15,
      "outputs": [
        {
          "output_type": "stream",
          "text": [
            "USMLE Step 1 Flashcards [Instant Access]\n",
            "FileCenter Professional 7 for 1 PC [Download]\n",
            "HitFilm 3 Pro (Win) [Online Code]\n",
            "Noteflight Crescendo Music Notation Software   Free Trial Available\n",
            "avast! Internet Security 2014 [Download]\n",
            "Snagit 12 - Academic [Download]\n",
            "Avast Free Antivirus 2015 [Download]\n",
            "IObit Uninstaller 4 [Download]\n",
            "RPG Maker VX Ace\n",
            "Intuit QuickBooks Online Simple Start 2015\n"
          ],
          "name": "stdout"
        }
      ]
    }
  ]
}