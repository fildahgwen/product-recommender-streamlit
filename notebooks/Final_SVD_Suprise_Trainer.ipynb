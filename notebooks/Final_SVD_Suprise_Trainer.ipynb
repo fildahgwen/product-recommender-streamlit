{
  "nbformat": 4,
  "nbformat_minor": 0,
  "metadata": {
    "colab": {
      "name": "Final_SVD_Suprise_Trainer.ipynb",
      "provenance": [],
      "collapsed_sections": []
    },
    "kernelspec": {
      "display_name": "Python 3",
      "name": "python3"
    },
    "language_info": {
      "name": "python"
    }
  },
  "cells": [
    {
      "cell_type": "code",
      "metadata": {
        "colab": {
          "base_uri": "https://localhost:8080/"
        },
        "id": "r3cD7munAe0V",
        "outputId": "297baefc-a644-41a3-b896-6a7a6a611041"
      },
      "source": [
        "!pip install scikit-surprise\n",
        "import numpy as np\n",
        "import pandas as pd\n",
        "from surprise import Dataset\n",
        "from surprise import Reader\n",
        "import heapq"
      ],
      "execution_count": 3,
      "outputs": [
        {
          "output_type": "stream",
          "text": [
            "Requirement already satisfied: scikit-surprise in /usr/local/lib/python3.7/dist-packages (1.1.1)\n",
            "Requirement already satisfied: six>=1.10.0 in /usr/local/lib/python3.7/dist-packages (from scikit-surprise) (1.15.0)\n",
            "Requirement already satisfied: scipy>=1.0.0 in /usr/local/lib/python3.7/dist-packages (from scikit-surprise) (1.4.1)\n",
            "Requirement already satisfied: joblib>=0.11 in /usr/local/lib/python3.7/dist-packages (from scikit-surprise) (1.0.1)\n",
            "Requirement already satisfied: numpy>=1.11.2 in /usr/local/lib/python3.7/dist-packages (from scikit-surprise) (1.19.5)\n"
          ],
          "name": "stdout"
        }
      ]
    },
    {
      "cell_type": "code",
      "metadata": {
        "id": "s-pg_4tAAqHZ"
      },
      "source": [
        "data_main = pd.read_csv('https://s3.amazonaws.com/amazon-reviews-pds/tsv/amazon_reviews_us_Digital_Software_v1_00.tsv.gz',\n",
        "                 sep='\\t',\n",
        "                 compression='gzip',\n",
        "                 error_bad_lines=False,\n",
        "                 warn_bad_lines=False)"
      ],
      "execution_count": 4,
      "outputs": []
    },
    {
      "cell_type": "code",
      "metadata": {
        "id": "ceLQuXLH8amF"
      },
      "source": [
        "def process_dataframe(data_main):\n",
        "  # Drop Null Values\n",
        "    combine_product_rating = data_main.dropna(axis=0, subset=['product_title'])\n",
        "\n",
        "    # Get Rating Count Per Product\n",
        "    product_ratingCount = (combine_product_rating.\n",
        "        groupby(by=['product_title'])['star_rating'].\n",
        "        count().\n",
        "        reset_index().\n",
        "        rename(columns={'star_rating': 'totalRatingCount'})\n",
        "    [['product_title', 'totalRatingCount']]\n",
        "        )\n",
        "\n",
        "    # Combine Rating count to get record\n",
        "    rating_with_totalRatingCount = combine_product_rating.merge(product_ratingCount, left_on='product_title',\n",
        "                                                                right_on='product_title', how='left')\n",
        "    # Set threshold for required review count\n",
        "    popularity_threshold = 50\n",
        "\n",
        "    # Get records with product popularity threshold & ignore star_ratings less than 3\n",
        "    cleaned_data = rating_with_totalRatingCount.query(\n",
        "        \"totalRatingCount >= @popularity_threshold\")\n",
        "    \n",
        "    return cleaned_data"
      ],
      "execution_count": 5,
      "outputs": []
    },
    {
      "cell_type": "code",
      "metadata": {
        "id": "-hwhpy_h8n5Z"
      },
      "source": [
        "data_main = process_dataframe(data_main)"
      ],
      "execution_count": 6,
      "outputs": []
    },
    {
      "cell_type": "code",
      "metadata": {
        "id": "yUDhNQ0SiMtW"
      },
      "source": [
        "products = data_main[['product_id', 'product_title']].drop_duplicates(['product_id'])\n",
        "reader = Reader(rating_scale=(1, 5))\n",
        "data = Dataset.load_from_df(data_main[[\"customer_id\", \"product_id\", \"star_rating\"]], reader)\n",
        "trainingSet = data.build_full_trainset()"
      ],
      "execution_count": 7,
      "outputs": []
    },
    {
      "cell_type": "code",
      "metadata": {
        "id": "Ol3fsghyA-9x"
      },
      "source": [
        "from surprise import SVDpp\n",
        "\n",
        "algo = SVDpp(n_epochs=100, lr_all=0.1)\n",
        "algo.fit(trainingSet)\n",
        "predictions = algo.test(trainingSet.build_testset())"
      ],
      "execution_count": 8,
      "outputs": []
    },
    {
      "cell_type": "code",
      "metadata": {
        "id": "GZkeeegIR6cs"
      },
      "source": [
        "from surprise.dump import *"
      ],
      "execution_count": 9,
      "outputs": []
    },
    {
      "cell_type": "code",
      "metadata": {
        "colab": {
          "base_uri": "https://localhost:8080/"
        },
        "id": "0xb9TAsLSEpD",
        "outputId": "75118a00-e9be-4d71-c329-8db7059d729f"
      },
      "source": [
        "dump(file_name='svd.model', predictions=predictions, algo= algo, verbose=1)"
      ],
      "execution_count": 10,
      "outputs": [
        {
          "output_type": "stream",
          "text": [
            "The dump has been saved as file svd.model\n"
          ],
          "name": "stdout"
        }
      ]
    },
    {
      "cell_type": "code",
      "metadata": {
        "id": "4Tc9ehyxSXeJ"
      },
      "source": [
        "model = load(file_name='svd.model')"
      ],
      "execution_count": 11,
      "outputs": []
    },
    {
      "cell_type": "code",
      "metadata": {
        "id": "FIF0dQO2Fjt0"
      },
      "source": [
        "def getProductName(product_id):\n",
        "      return products.loc[products['product_id'] == product_id, 'product_title'].iloc[0]"
      ],
      "execution_count": 12,
      "outputs": []
    },
    {
      "cell_type": "code",
      "metadata": {
        "id": "8jDKAf3i3czf"
      },
      "source": [
        "from collections import defaultdict\n",
        "\n",
        "def get_top_n(predictions, n=10):\n",
        "    \"\"\"Return the top-N recommendation for each user from a set of predictions.\n",
        "    Args:\n",
        "        predictions(list of Prediction objects): The list of predictions, as\n",
        "            returned by the test method of an algorithm.\n",
        "        n(int): The number of recommendation to output for each user. Default\n",
        "            is 10.\n",
        "    Returns:\n",
        "    A dict where keys are user (raw) ids and values are lists of tuples:\n",
        "        [(raw item id, rating estimation), ...] of size n.\n",
        "    \"\"\"\n",
        "\n",
        "    # First map the predictions to each user.\n",
        "    top_n = defaultdict(list)\n",
        "    for uid, iid, true_r, est, _ in predictions:\n",
        "        top_n[uid].append((iid, est))\n",
        "\n",
        "    # Then sort the predictions for each user and retrieve the k highest ones.\n",
        "    for uid, user_ratings in top_n.items():\n",
        "        user_ratings.sort(key=lambda x: x[1], reverse=True)\n",
        "        top_n[uid] = user_ratings[:n]\n",
        "\n",
        "    return top_n"
      ],
      "execution_count": 13,
      "outputs": []
    },
    {
      "cell_type": "code",
      "metadata": {
        "id": "rhRSmue2mKUd"
      },
      "source": [
        "test_customer = 164400\n",
        "test_subject_iid = trainingSet.to_inner_uid(test_customer)\n",
        "test_subject_ratings = trainingSet.ur[test_subject_iid]"
      ],
      "execution_count": 14,
      "outputs": []
    },
    {
      "cell_type": "code",
      "metadata": {
        "id": "NNIZkG9bmB3F"
      },
      "source": [
        "k = 10 + len(test_subject_ratings)\n",
        "watched = {}\n",
        "for itemID, rating in trainingSet.ur[test_subject_iid]:\n",
        "  watched[trainingSet.to_raw_iid(itemID)] = 1"
      ],
      "execution_count": 15,
      "outputs": []
    },
    {
      "cell_type": "code",
      "metadata": {
        "id": "MCzZ6Ut9TPK1"
      },
      "source": [
        "list_tem = []\n",
        "for item in products.product_id:\n",
        "  list_tem.append(model[1].predict(uid=str(test_customer), iid=item))"
      ],
      "execution_count": 16,
      "outputs": []
    },
    {
      "cell_type": "code",
      "metadata": {
        "id": "fILg3Ht0Usq1"
      },
      "source": [
        "k_neighbors = heapq.nlargest(k, list_tem, key=lambda t: t[3])\n",
        "top_t = get_top_n(k_neighbors, n=k)"
      ],
      "execution_count": 17,
      "outputs": []
    },
    {
      "cell_type": "code",
      "metadata": {
        "id": "H419ckC1ko-S"
      },
      "source": [
        "position = 0\n",
        "recommendations = []\n",
        "for rec in top_t[str(test_customer)]:\n",
        "  if not rec[0] in watched:\n",
        "    recommendations.append(getProductName(rec[0]))\n",
        "    position += 1\n",
        "    if (position >= 10): break # We only want top 10"
      ],
      "execution_count": 18,
      "outputs": []
    },
    {
      "cell_type": "code",
      "metadata": {
        "id": "HrRQbYT7Ai-s",
        "colab": {
          "base_uri": "https://localhost:8080/"
        },
        "outputId": "b79dde8c-b318-4c9f-f0c8-020857f884e5"
      },
      "source": [
        "for recommendation in recommendations:\n",
        "  print(recommendation)"
      ],
      "execution_count": 19,
      "outputs": [
        {
          "output_type": "stream",
          "text": [
            "Microsoft Windows Store Gift Card\n",
            "Avast Free Antivirus 2015 [Download]\n",
            "Microsoft Windows Store Gift Card\n",
            "RPG Maker VX Ace\n",
            "RPG Maker VX Ace\n",
            "avast! Internet Security 2014 [Download]\n",
            "Sound Forge\n",
            "QuickBooks Online Plus 2015\n",
            "QuickBooks Premier with Enhanced Payroll 2014 [Old Version]\n",
            "avast! Pro Antivirus 2014 (1 PC, 1 Year) [Download]\n"
          ],
          "name": "stdout"
        }
      ]
    }
  ]
}