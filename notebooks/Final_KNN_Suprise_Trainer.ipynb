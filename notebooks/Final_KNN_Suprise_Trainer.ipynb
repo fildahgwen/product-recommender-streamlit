{
  "nbformat": 4,
  "nbformat_minor": 0,
  "metadata": {
    "colab": {
      "name": "Final_KNN_Suprise_Trainer.ipynb",
      "provenance": [],
      "collapsed_sections": []
    },
    "kernelspec": {
      "name": "python3",
      "display_name": "Python 3"
    },
    "language_info": {
      "name": "python"
    }
  },
  "cells": [
    {
      "cell_type": "code",
      "metadata": {
        "colab": {
          "base_uri": "https://localhost:8080/"
        },
        "id": "r3cD7munAe0V",
        "outputId": "c058cee2-f547-4f2e-d7bf-2b2b5c418625"
      },
      "source": [
        "!pip install scikit-surprise\n",
        "import numpy as np\n",
        "import pandas as pd\n",
        "from surprise import Dataset\n",
        "from surprise import Reader"
      ],
      "execution_count": 15,
      "outputs": [
        {
          "output_type": "stream",
          "text": [
            "Requirement already satisfied: scikit-surprise in /usr/local/lib/python3.7/dist-packages (1.1.1)\n",
            "Requirement already satisfied: scipy>=1.0.0 in /usr/local/lib/python3.7/dist-packages (from scikit-surprise) (1.4.1)\n",
            "Requirement already satisfied: joblib>=0.11 in /usr/local/lib/python3.7/dist-packages (from scikit-surprise) (1.0.1)\n",
            "Requirement already satisfied: numpy>=1.11.2 in /usr/local/lib/python3.7/dist-packages (from scikit-surprise) (1.19.5)\n",
            "Requirement already satisfied: six>=1.10.0 in /usr/local/lib/python3.7/dist-packages (from scikit-surprise) (1.15.0)\n"
          ],
          "name": "stdout"
        }
      ]
    },
    {
      "cell_type": "code",
      "metadata": {
        "id": "s-pg_4tAAqHZ"
      },
      "source": [
        "data_main = pd.read_csv('https://s3.amazonaws.com/amazon-reviews-pds/tsv/amazon_reviews_us_Digital_Software_v1_00.tsv.gz',\n",
        "                 sep='\\t',\n",
        "                 compression='gzip',\n",
        "                 error_bad_lines=False,\n",
        "                 warn_bad_lines=False)"
      ],
      "execution_count": 16,
      "outputs": []
    },
    {
      "cell_type": "code",
      "metadata": {
        "id": "AJxVTFK08XlY"
      },
      "source": [
        "def process_dataframe(data_main):\n",
        "  # Drop Null Values\n",
        "    combine_product_rating = data_main.dropna(axis=0, subset=['product_title'])\n",
        "\n",
        "    # Get Rating Count Per Product\n",
        "    product_ratingCount = (combine_product_rating.\n",
        "        groupby(by=['product_title'])['star_rating'].\n",
        "        count().\n",
        "        reset_index().\n",
        "        rename(columns={'star_rating': 'totalRatingCount'})\n",
        "    [['product_title', 'totalRatingCount']]\n",
        "        )\n",
        "\n",
        "    # Combine Rating count to get record\n",
        "    rating_with_totalRatingCount = combine_product_rating.merge(product_ratingCount, left_on='product_title',\n",
        "                                                                right_on='product_title', how='left')\n",
        "    # Set threshold for required review count\n",
        "    popularity_threshold = 50\n",
        "\n",
        "    # Get records with product popularity threshold & ignore star_ratings less than 3\n",
        "    cleaned_data = rating_with_totalRatingCount.query(\n",
        "        \"totalRatingCount >= @popularity_threshold\")\n",
        "    \n",
        "    return cleaned_data"
      ],
      "execution_count": 17,
      "outputs": []
    },
    {
      "cell_type": "code",
      "metadata": {
        "id": "YiI_qBly8vQP"
      },
      "source": [
        "data_main = process_dataframe(data_main)"
      ],
      "execution_count": 18,
      "outputs": []
    },
    {
      "cell_type": "code",
      "metadata": {
        "id": "FP3IfWw4AyCb"
      },
      "source": [
        "reader = Reader(rating_scale=(1, 5))\n",
        "data = Dataset.load_from_df(data_main[[\"customer_id\", \"product_id\", \"star_rating\"]], reader)"
      ],
      "execution_count": 19,
      "outputs": []
    },
    {
      "cell_type": "code",
      "metadata": {
        "id": "t89W76olBHlY"
      },
      "source": [
        "trainingSet = data.build_full_trainset()"
      ],
      "execution_count": 20,
      "outputs": []
    },
    {
      "cell_type": "code",
      "metadata": {
        "colab": {
          "base_uri": "https://localhost:8080/"
        },
        "id": "Ol3fsghyA-9x",
        "outputId": "53ac12cf-f86e-4d26-a92f-69232b55ce47"
      },
      "source": [
        "from surprise import KNNWithMeans\n",
        "\n",
        "# To use item-based cosine similarity\n",
        "sim_options = {\n",
        "    \"name\": \"cosine\",\n",
        "    \"user_based\": False,  # Compute  similarities between items\n",
        "}\n",
        "algo = KNNWithMeans(k=30, min_k=5, sim_options=sim_options)\n",
        "algo.fit(trainingSet)"
      ],
      "execution_count": 21,
      "outputs": [
        {
          "output_type": "stream",
          "text": [
            "Computing the cosine similarity matrix...\n",
            "Done computing similarity matrix.\n"
          ],
          "name": "stdout"
        },
        {
          "output_type": "execute_result",
          "data": {
            "text/plain": [
              "<surprise.prediction_algorithms.knns.KNNWithMeans at 0x7f47aca19250>"
            ]
          },
          "metadata": {
            "tags": []
          },
          "execution_count": 21
        }
      ]
    },
    {
      "cell_type": "code",
      "metadata": {
        "id": "6ImoHUBNRtPD"
      },
      "source": [
        "predictions = algo.test(trainingSet.build_testset())"
      ],
      "execution_count": 22,
      "outputs": []
    },
    {
      "cell_type": "code",
      "metadata": {
        "id": "GZkeeegIR6cs"
      },
      "source": [
        "from surprise.dump import *"
      ],
      "execution_count": 23,
      "outputs": []
    },
    {
      "cell_type": "code",
      "metadata": {
        "colab": {
          "base_uri": "https://localhost:8080/"
        },
        "id": "0xb9TAsLSEpD",
        "outputId": "1c3cb0c3-92d3-4a5e-d9b1-6d6d449d0436"
      },
      "source": [
        "dump(file_name='knn.model', predictions=predictions, algo= algo, verbose=1)"
      ],
      "execution_count": 24,
      "outputs": [
        {
          "output_type": "stream",
          "text": [
            "The dump has been saved as file knn.model\n"
          ],
          "name": "stdout"
        }
      ]
    },
    {
      "cell_type": "code",
      "metadata": {
        "id": "4Tc9ehyxSXeJ"
      },
      "source": [
        "model = load(file_name='knn.model')"
      ],
      "execution_count": 25,
      "outputs": []
    },
    {
      "cell_type": "code",
      "metadata": {
        "colab": {
          "base_uri": "https://localhost:8080/"
        },
        "id": "VWpjPJp3BQ3J",
        "outputId": "1f55bfde-2b7e-4a5e-bfc4-c0e080c2c2c9"
      },
      "source": [
        "similarity_matrix = model[1].compute_similarities()"
      ],
      "execution_count": 26,
      "outputs": [
        {
          "output_type": "stream",
          "text": [
            "Computing the cosine similarity matrix...\n",
            "Done computing similarity matrix.\n"
          ],
          "name": "stdout"
        }
      ]
    },
    {
      "cell_type": "code",
      "metadata": {
        "id": "97CWry5nBvf6"
      },
      "source": [
        "test_subject = 164400\n",
        "k = 15"
      ],
      "execution_count": 27,
      "outputs": []
    },
    {
      "cell_type": "code",
      "metadata": {
        "id": "5ql1vTW1B2dQ"
      },
      "source": [
        "import heapq\n",
        "from collections import defaultdict\n",
        "\n",
        "test_subject_iid = trainingSet.to_inner_uid(test_subject)\n",
        "test_subject_ratings = trainingSet.ur[test_subject_iid]\n",
        "k_neighbors = heapq.nlargest(k, test_subject_ratings, key=lambda t: t[1])"
      ],
      "execution_count": 28,
      "outputs": []
    },
    {
      "cell_type": "code",
      "metadata": {
        "id": "ppVaJFHaFNL2"
      },
      "source": [
        "candidates = defaultdict(float)\n",
        "\n",
        "for itemID, rating in k_neighbors:\n",
        "    try:\n",
        "      similaritities = similarity_matrix[itemID]\n",
        "      for innerID, score in enumerate(similaritities):\n",
        "          candidates[innerID] += score * (rating / 5.0)\n",
        "    except:\n",
        "      continue"
      ],
      "execution_count": 29,
      "outputs": []
    },
    {
      "cell_type": "code",
      "metadata": {
        "id": "4Q6CzzqvFx-8"
      },
      "source": [
        "products = data_main[['product_id', 'product_title']].drop_duplicates()"
      ],
      "execution_count": 30,
      "outputs": []
    },
    {
      "cell_type": "code",
      "metadata": {
        "id": "FIF0dQO2Fjt0"
      },
      "source": [
        "def getProductName(product_id):\n",
        "      return products.loc[products['product_id'] == product_id, 'product_title'].iloc[0]"
      ],
      "execution_count": 31,
      "outputs": []
    },
    {
      "cell_type": "code",
      "metadata": {
        "colab": {
          "base_uri": "https://localhost:8080/"
        },
        "id": "8zqVnq6RIosR",
        "outputId": "cca7bfcc-e6db-4d10-d370-01afaa9ec596"
      },
      "source": [
        "from operator import itemgetter\n",
        "\n",
        "watched = {}\n",
        "for itemID, rating in trainingSet.ur[test_subject_iid]:\n",
        "  watched[itemID] = 1\n",
        "\n",
        "recommendations = []\n",
        "\n",
        "position = 0\n",
        "for itemID, rating_sum in sorted(candidates.items(), key=itemgetter(1), reverse=True):\n",
        "  if not itemID in watched:\n",
        "    recommendations.append(getProductName(trainingSet.to_raw_iid(itemID)))\n",
        "    position += 1\n",
        "    if (position > 10): break # We only want top 10\n",
        "\n",
        "for recommendation in recommendations:\n",
        "  print(recommendation)"
      ],
      "execution_count": 32,
      "outputs": [
        {
          "output_type": "stream",
          "text": [
            "Avast Free Antivirus 2015 [Download]\n",
            "Kaspersky Anti-Virus 2015 3 User, 1 Year\n",
            "Block Financial H&R Block Tax Software 14 Deluxe + State\n",
            "Amazon Drive Desktop [Mac]\n",
            "Intuit Quicken Home & Business 2015\n",
            "Dragon Premium 13.0\n",
            "TurboTax Deluxe Federal + E-File + State 2012\n",
            "Microsoft Office Home and Student 2013 (1PC/1User) [Download]\n",
            "Malwarebytes Anti-Malware Premium LIFETIME Activation Key! (GENUINE & AUTHORIZED, Immediate Key Issued, No Waiting for CD) -- previously Professional [Download]\n",
            "TurboTax Deluxe Fed + Efile + State\n",
            "Quicken Premier 2\n"
          ],
          "name": "stdout"
        }
      ]
    }
  ]
}