{
  "nbformat": 4,
  "nbformat_minor": 0,
  "metadata": {
    "colab": {
      "name": "Final_KNN_Suprise_Trainer.ipynb",
      "provenance": [],
      "collapsed_sections": []
    },
    "kernelspec": {
      "name": "python3",
      "display_name": "Python 3"
    },
    "language_info": {
      "name": "python"
    }
  },
  "cells": [
    {
      "cell_type": "code",
      "metadata": {
        "colab": {
          "base_uri": "https://localhost:8080/"
        },
        "id": "r3cD7munAe0V",
        "outputId": "5f1b73d0-29b9-4d0b-fdf1-a2a17f546c82"
      },
      "source": [
        "!pip install scikit-surprise\n",
        "import numpy as np\n",
        "import pandas as pd\n",
        "from surprise import Dataset\n",
        "from surprise import Reader"
      ],
      "execution_count": null,
      "outputs": [
        {
          "output_type": "stream",
          "text": [
            "Requirement already satisfied: scikit-surprise in /usr/local/lib/python3.7/dist-packages (1.1.1)\n",
            "Requirement already satisfied: numpy>=1.11.2 in /usr/local/lib/python3.7/dist-packages (from scikit-surprise) (1.19.5)\n",
            "Requirement already satisfied: joblib>=0.11 in /usr/local/lib/python3.7/dist-packages (from scikit-surprise) (1.0.1)\n",
            "Requirement already satisfied: six>=1.10.0 in /usr/local/lib/python3.7/dist-packages (from scikit-surprise) (1.15.0)\n",
            "Requirement already satisfied: scipy>=1.0.0 in /usr/local/lib/python3.7/dist-packages (from scikit-surprise) (1.4.1)\n"
          ],
          "name": "stdout"
        }
      ]
    },
    {
      "cell_type": "code",
      "metadata": {
        "id": "s-pg_4tAAqHZ"
      },
      "source": [
        "data_main = pd.read_csv('https://s3.amazonaws.com/amazon-reviews-pds/tsv/amazon_reviews_us_Digital_Software_v1_00.tsv.gz',\n",
        "                 sep='\\t',\n",
        "                 compression='gzip',\n",
        "                 error_bad_lines=False,\n",
        "                 warn_bad_lines=False)"
      ],
      "execution_count": null,
      "outputs": []
    },
    {
      "cell_type": "code",
      "metadata": {
        "id": "FP3IfWw4AyCb"
      },
      "source": [
        "reader = Reader(rating_scale=(1, 5))\n",
        "data = Dataset.load_from_df(data_main[[\"customer_id\", \"product_id\", \"star_rating\"]], reader)"
      ],
      "execution_count": null,
      "outputs": []
    },
    {
      "cell_type": "code",
      "metadata": {
        "id": "t89W76olBHlY"
      },
      "source": [
        "trainingSet = data.build_full_trainset()"
      ],
      "execution_count": null,
      "outputs": []
    },
    {
      "cell_type": "code",
      "metadata": {
        "colab": {
          "base_uri": "https://localhost:8080/"
        },
        "id": "Ol3fsghyA-9x",
        "outputId": "4683be0d-1a31-412c-f5cc-93c8d03c4ea0"
      },
      "source": [
        "from surprise import KNNWithMeans\n",
        "\n",
        "# To use item-based cosine similarity\n",
        "sim_options = {\n",
        "    \"name\": \"cosine\",\n",
        "    \"user_based\": False,  # Compute  similarities between items\n",
        "}\n",
        "algo = KNNWithMeans(k=30, min_k=5, sim_options=sim_options)\n",
        "algo.fit(trainingSet)"
      ],
      "execution_count": null,
      "outputs": [
        {
          "output_type": "stream",
          "text": [
            "Computing the cosine similarity matrix...\n",
            "Done computing similarity matrix.\n"
          ],
          "name": "stdout"
        },
        {
          "output_type": "execute_result",
          "data": {
            "text/plain": [
              "<surprise.prediction_algorithms.knns.KNNWithMeans at 0x7f5fb2c872d0>"
            ]
          },
          "metadata": {
            "tags": []
          },
          "execution_count": 74
        }
      ]
    },
    {
      "cell_type": "code",
      "metadata": {
        "id": "6ImoHUBNRtPD"
      },
      "source": [
        "predictions = algo.test(trainingSet.build_testset())"
      ],
      "execution_count": null,
      "outputs": []
    },
    {
      "cell_type": "code",
      "metadata": {
        "id": "GZkeeegIR6cs"
      },
      "source": [
        "from surprise.dump import *"
      ],
      "execution_count": null,
      "outputs": []
    },
    {
      "cell_type": "code",
      "metadata": {
        "colab": {
          "base_uri": "https://localhost:8080/"
        },
        "id": "0xb9TAsLSEpD",
        "outputId": "7f972881-8942-48e8-99a6-16070d096e3d"
      },
      "source": [
        "dump(file_name='knn.model', predictions=predictions, algo= algo, verbose=1)"
      ],
      "execution_count": null,
      "outputs": [
        {
          "output_type": "stream",
          "text": [
            "The dump has been saved as file knn.model\n"
          ],
          "name": "stdout"
        }
      ]
    },
    {
      "cell_type": "code",
      "metadata": {
        "id": "4Tc9ehyxSXeJ"
      },
      "source": [
        "model = load(file_name='knn.model')"
      ],
      "execution_count": null,
      "outputs": []
    },
    {
      "cell_type": "code",
      "metadata": {
        "colab": {
          "base_uri": "https://localhost:8080/"
        },
        "id": "VWpjPJp3BQ3J",
        "outputId": "0cb8e91d-e43c-4abb-de97-43c7d05e02b8"
      },
      "source": [
        "similarity_matrix = model[1].compute_similarities()"
      ],
      "execution_count": null,
      "outputs": [
        {
          "output_type": "stream",
          "text": [
            "Computing the cosine similarity matrix...\n",
            "Done computing similarity matrix.\n"
          ],
          "name": "stdout"
        }
      ]
    },
    {
      "cell_type": "code",
      "metadata": {
        "id": "97CWry5nBvf6"
      },
      "source": [
        "# test_subject = 11635690\n",
        "test_subject = 46098046\n",
        "k = 15"
      ],
      "execution_count": null,
      "outputs": []
    },
    {
      "cell_type": "code",
      "metadata": {
        "id": "5ql1vTW1B2dQ"
      },
      "source": [
        "import heapq\n",
        "from collections import defaultdict\n",
        "\n",
        "test_subject_iid = trainingSet.to_inner_uid(test_subject)\n",
        "test_subject_ratings = trainingSet.ur[test_subject_iid]\n",
        "k_neighbors = heapq.nlargest(k, test_subject_ratings, key=lambda t: t[1])"
      ],
      "execution_count": null,
      "outputs": []
    },
    {
      "cell_type": "code",
      "metadata": {
        "id": "ppVaJFHaFNL2"
      },
      "source": [
        "candidates = defaultdict(float)\n",
        "\n",
        "for itemID, rating in k_neighbors:\n",
        "    try:\n",
        "      similaritities = similarity_matrix[itemID]\n",
        "      for innerID, score in enumerate(similaritities):\n",
        "          candidates[innerID] += score * (rating / 5.0)\n",
        "    except:\n",
        "      continue"
      ],
      "execution_count": null,
      "outputs": []
    },
    {
      "cell_type": "code",
      "metadata": {
        "id": "4Q6CzzqvFx-8"
      },
      "source": [
        "products = data_main[['product_id', 'product_title']].drop_duplicates()"
      ],
      "execution_count": null,
      "outputs": []
    },
    {
      "cell_type": "code",
      "metadata": {
        "id": "FIF0dQO2Fjt0"
      },
      "source": [
        "def getProductName(product_id):\n",
        "      return products.loc[products['product_id'] == product_id, 'product_title'].iloc[0]"
      ],
      "execution_count": null,
      "outputs": []
    },
    {
      "cell_type": "code",
      "metadata": {
        "colab": {
          "base_uri": "https://localhost:8080/"
        },
        "id": "8zqVnq6RIosR",
        "outputId": "3f4450ed-b6c5-4f3b-e2d6-2a27c3c31ba6"
      },
      "source": [
        "from operator import itemgetter\n",
        "\n",
        "watched = {}\n",
        "for itemID, rating in trainingSet.ur[test_subject_iid]:\n",
        "  watched[itemID] = 1\n",
        "\n",
        "recommendations = []\n",
        "\n",
        "position = 0\n",
        "for itemID, rating_sum in sorted(candidates.items(), key=itemgetter(1), reverse=True):\n",
        "  if not itemID in watched:\n",
        "    recommendations.append(getProductName(trainingSet.to_raw_iid(itemID)))\n",
        "    position += 1\n",
        "    if (position > 10): break # We only want top 10\n",
        "\n",
        "for recommendation in recommendations:\n",
        "  print(recommendation)"
      ],
      "execution_count": null,
      "outputs": [
        {
          "output_type": "stream",
          "text": [
            "Product:  TurboTax Deluxe Federal + E-File + State 2012\n",
            "Product:  TurboTax Deluxe Fed, Efile and State 2013\n",
            "Product:  TurboTax Deluxe Federal + State + eFile 2008\n",
            "Product:  CCleaner Free [Download]\n",
            "Product:  ResumeMaker Professional Deluxe 18\n",
            "Product:  Amazon Drive Desktop [PC]\n",
            "Product:  Norton Internet Security 1 User 3 Licenses\n",
            "Product:  SecureAnywhere Intermet Security Complete 5 Device\n",
            "Product:  Pc Matic Performance Utility Suite (5 User Edition)\n",
            "Product:  Microsoft OneNote 2013 (1PC/1User)\n",
            "Product:  Intuit Quicken Rental Property Manager 2015\n"
          ],
          "name": "stdout"
        }
      ]
    }
  ]
}